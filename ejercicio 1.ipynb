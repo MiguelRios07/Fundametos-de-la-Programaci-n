{
 "cells": [
  {
   "cell_type": "code",
   "execution_count": 8,
   "metadata": {},
   "outputs": [
    {
     "name": "stdout",
     "output_type": "stream",
     "text": [
      " Ingrese su nombre :Kelly Gutierrez \n",
      "Ingrese su nota del primer parcial:2\n",
      "Ingrese su nota del segundo parcial:2\n",
      "Ingrese su nota del primer parcial: 3\n",
      "Ingrese el numero de fallas que tuvo :2\n",
      "Su promedio es:  2.3\n",
      "Perdio academicamente\n"
     ]
    }
   ],
   "source": [
    "nombre_del_estudiante=input( \" Ingrese su nombre :\")\n",
    "pparcial=float(input(\"Ingrese su nota del primer parcial:\"))\n",
    "sparcial=float(input(\"Ingrese su nota del segundo parcial:\"))\n",
    "tparcial=float(input(\"Ingrese su nota del primer parcial: \"))\n",
    "acumulado_de_inasistencia=int(input( \"Ingrese el numero de fallas que tuvo :\"))\n",
    "promedio=(pparcial*0.35+sparcial*0.35+tparcial*0.30)\n",
    "print(\"Su promedio es: \",promedio)\n",
    "if promedio>=3 and acumulado_de_inasistencia<=12:\n",
    "                       print(\"Gano academicamente\")\n",
    "if promedio>=3 and acumulado_de_inasistencia>12:\n",
    "                       print(\"Apruba por calificacion pero perdio por inasistencia\")\n",
    "if promedio<3 and acumulado_de_inasistencia<=12:\n",
    "                       print(\"Perdio academicamente\")\n",
    "if promedio<=3 and acumulado_de_inasistencia>12:\n",
    "                       print(\"perdio academicamente y por inasistencia\")\n",
    "if promedio<=5 and  acumulado_de_inasistencia>12:\n",
    "                       print(\"Perdio por inasistencia\")"
   ]
  },
  {
   "cell_type": "code",
   "execution_count": null,
   "metadata": {},
   "outputs": [],
   "source": []
  },
  {
   "cell_type": "code",
   "execution_count": null,
   "metadata": {},
   "outputs": [],
   "source": []
  }
 ],
 "metadata": {
  "kernelspec": {
   "display_name": "Python 3",
   "language": "python",
   "name": "python3"
  },
  "language_info": {
   "codemirror_mode": {
    "name": "ipython",
    "version": 3
   },
   "file_extension": ".py",
   "mimetype": "text/x-python",
   "name": "python",
   "nbconvert_exporter": "python",
   "pygments_lexer": "ipython3",
   "version": "3.8.5"
  }
 },
 "nbformat": 4,
 "nbformat_minor": 4
}
