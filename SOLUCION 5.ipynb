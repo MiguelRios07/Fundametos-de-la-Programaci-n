{
 "cells": [
  {
   "cell_type": "code",
   "execution_count": 3,
   "metadata": {},
   "outputs": [
    {
     "name": "stdout",
     "output_type": "stream",
     "text": [
      "ingrese la distancia : 450\n",
      "ingrese el tiempo :20\n",
      "la velocidad del vehiculo segun la distancia es de :  22.5\n"
     ]
    }
   ],
   "source": [
    "distancia= float(input(\"ingrese la distancia : \"))\n",
    "tiempo= float(input(\"ingrese el tiempo :\"))\n",
    "velocidad=distancia/tiempo\n",
    "print(\"la velocidad del vehiculo segun la distancia es de : \" ,velocidad )"
   ]
  },
  {
   "cell_type": "code",
   "execution_count": null,
   "metadata": {},
   "outputs": [],
   "source": []
  },
  {
   "cell_type": "code",
   "execution_count": null,
   "metadata": {},
   "outputs": [],
   "source": []
  }
 ],
 "metadata": {
  "kernelspec": {
   "display_name": "Python 3",
   "language": "python",
   "name": "python3"
  },
  "language_info": {
   "codemirror_mode": {
    "name": "ipython",
    "version": 3
   },
   "file_extension": ".py",
   "mimetype": "text/x-python",
   "name": "python",
   "nbconvert_exporter": "python",
   "pygments_lexer": "ipython3",
   "version": "3.8.5"
  }
 },
 "nbformat": 4,
 "nbformat_minor": 4
}
