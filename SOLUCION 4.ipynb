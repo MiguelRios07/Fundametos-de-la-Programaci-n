{
 "cells": [
  {
   "cell_type": "code",
   "execution_count": 2,
   "metadata": {},
   "outputs": [
    {
     "name": "stdout",
     "output_type": "stream",
     "text": [
      "ingrese las notas del primer bimestre :3\n",
      "ingrese las notas del segundo bimestre :4\n",
      "la nota que debe obtener en el supletorio es de:  3.5\n"
     ]
    }
   ],
   "source": [
    "pri_nota= int(input(\"ingrese las notas del primer bimestre :\"))\n",
    "seg_nota= int(input(\"ingrese las notas del segundo bimestre :\"))\n",
    "tot_supletorio=10.5 - pri_nota - seg_nota\n",
    "print(\"la nota que debe obtener en el supletorio es de: \" , tot_supletorio)\n"
   ]
  },
  {
   "cell_type": "code",
   "execution_count": null,
   "metadata": {},
   "outputs": [],
   "source": []
  },
  {
   "cell_type": "code",
   "execution_count": null,
   "metadata": {},
   "outputs": [],
   "source": []
  }
 ],
 "metadata": {
  "kernelspec": {
   "display_name": "Python 3",
   "language": "python",
   "name": "python3"
  },
  "language_info": {
   "codemirror_mode": {
    "name": "ipython",
    "version": 3
   },
   "file_extension": ".py",
   "mimetype": "text/x-python",
   "name": "python",
   "nbconvert_exporter": "python",
   "pygments_lexer": "ipython3",
   "version": "3.8.5"
  }
 },
 "nbformat": 4,
 "nbformat_minor": 4
}
