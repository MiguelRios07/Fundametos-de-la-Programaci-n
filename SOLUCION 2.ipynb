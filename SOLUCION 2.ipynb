{
 "cells": [
  {
   "cell_type": "code",
   "execution_count": 3,
   "metadata": {},
   "outputs": [
    {
     "name": "stdout",
     "output_type": "stream",
     "text": [
      "ingrese el radio del circulo :5\n",
      "el area del circulo es : 75\n",
      "la longitud de la circunferencia es 30\n"
     ]
    }
   ],
   "source": [
    "radio=int(input(\"ingrese el radio del circulo :\"))\n",
    "pi=int(3.14)\n",
    "area_del_circulo=pi*radio**2\n",
    "longitud_de_la_circunferencia=2*pi*radio\n",
    "print(\"el area del circulo es :\" ,area_del_circulo)\n",
    "print(\"la longitud de la circunferencia es\" ,longitud_de_la_circunferencia)"
   ]
  },
  {
   "cell_type": "code",
   "execution_count": null,
   "metadata": {},
   "outputs": [],
   "source": []
  }
 ],
 "metadata": {
  "kernelspec": {
   "display_name": "Python 3",
   "language": "python",
   "name": "python3"
  },
  "language_info": {
   "codemirror_mode": {
    "name": "ipython",
    "version": 3
   },
   "file_extension": ".py",
   "mimetype": "text/x-python",
   "name": "python",
   "nbconvert_exporter": "python",
   "pygments_lexer": "ipython3",
   "version": "3.8.5"
  }
 },
 "nbformat": 4,
 "nbformat_minor": 4
}
