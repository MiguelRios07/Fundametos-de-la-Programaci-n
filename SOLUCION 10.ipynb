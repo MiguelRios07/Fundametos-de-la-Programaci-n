{
 "cells": [
  {
   "cell_type": "code",
   "execution_count": 3,
   "metadata": {},
   "outputs": [
    {
     "name": "stdout",
     "output_type": "stream",
     "text": [
      "ingrese el valor de la base :12\n",
      "ingrese la altura : 6\n",
      "el perimetro del rectangulo es :  36\n",
      "el area del rectangulo es :  72\n"
     ]
    }
   ],
   "source": [
    "base=int(input (\"ingrese el valor de la base :\" ))\n",
    "altu=int(input(\"ingrese la altura : \"))\n",
    "peri= altu+ base+altu+base\n",
    "area= base * altu\n",
    "print (\"el perimetro del rectangulo es : \" , peri)\n",
    "print (\"el area del rectangulo es : \" , area)"
   ]
  },
  {
   "cell_type": "code",
   "execution_count": null,
   "metadata": {},
   "outputs": [],
   "source": []
  }
 ],
 "metadata": {
  "kernelspec": {
   "display_name": "Python 3",
   "language": "python",
   "name": "python3"
  },
  "language_info": {
   "codemirror_mode": {
    "name": "ipython",
    "version": 3
   },
   "file_extension": ".py",
   "mimetype": "text/x-python",
   "name": "python",
   "nbconvert_exporter": "python",
   "pygments_lexer": "ipython3",
   "version": "3.8.5"
  }
 },
 "nbformat": 4,
 "nbformat_minor": 4
}
