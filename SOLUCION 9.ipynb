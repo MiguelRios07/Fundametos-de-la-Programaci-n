{
 "cells": [
  {
   "cell_type": "code",
   "execution_count": 12,
   "metadata": {},
   "outputs": [
    {
     "name": "stdout",
     "output_type": "stream",
     "text": [
      "ingrese su temperatura en  °C :30\n",
      "la conversion en grados Kelvin es igual a :  303\n",
      "la conversion en grados Fahrenheit es igual a :  86.0\n"
     ]
    }
   ],
   "source": [
    "tem_c= int(input (\"ingrese su temperatura en  °C :\"))\n",
    "gra_k= int(273.15)\n",
    "con_k= tem_c + gra_k\n",
    "con_f= tem_c * 1.8 + 32\n",
    "print (\"la conversion en grados Kelvin es igual a : \" , con_k )\n",
    "print (\"la conversion en grados Fahrenheit es igual a : \" , con_f )"
   ]
  },
  {
   "cell_type": "code",
   "execution_count": null,
   "metadata": {},
   "outputs": [],
   "source": []
  }
 ],
 "metadata": {
  "kernelspec": {
   "display_name": "Python 3",
   "language": "python",
   "name": "python3"
  },
  "language_info": {
   "codemirror_mode": {
    "name": "ipython",
    "version": 3
   },
   "file_extension": ".py",
   "mimetype": "text/x-python",
   "name": "python",
   "nbconvert_exporter": "python",
   "pygments_lexer": "ipython3",
   "version": "3.8.5"
  }
 },
 "nbformat": 4,
 "nbformat_minor": 4
}
