{
 "cells": [
  {
   "cell_type": "code",
   "execution_count": 3,
   "metadata": {},
   "outputs": [
    {
     "name": "stdout",
     "output_type": "stream",
     "text": [
      "ingrese el valor neto de la compra : 8000\n",
      " el total a pagar con iva es:  9520.0\n",
      " el total a pagar con descuento es : 9044.0\n"
     ]
    }
   ],
   "source": [
    "descuento= float (0.05)\n",
    "val_compra= int(input(\"ingrese el valor neto de la compra : \"))\n",
    "iva_por= float (0.19)\n",
    "tot_iva= iva_por * val_compra\n",
    "tot_pag= tot_iva + val_compra\n",
    "tot_des= tot_pag * descuento\n",
    "tot_des_pr= tot_pag - tot_des\n",
    "print (\" el total a pagar con iva es: \" , tot_pag)\n",
    "print (\" el total a pagar con descuento es :\" , tot_des_pr)\n"
   ]
  },
  {
   "cell_type": "code",
   "execution_count": null,
   "metadata": {},
   "outputs": [],
   "source": []
  }
 ],
 "metadata": {
  "kernelspec": {
   "display_name": "Python 3",
   "language": "python",
   "name": "python3"
  },
  "language_info": {
   "codemirror_mode": {
    "name": "ipython",
    "version": 3
   },
   "file_extension": ".py",
   "mimetype": "text/x-python",
   "name": "python",
   "nbconvert_exporter": "python",
   "pygments_lexer": "ipython3",
   "version": "3.8.5"
  }
 },
 "nbformat": 4,
 "nbformat_minor": 4
}
