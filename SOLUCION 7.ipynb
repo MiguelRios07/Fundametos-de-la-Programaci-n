{
 "cells": [
  {
   "cell_type": "code",
   "execution_count": 1,
   "metadata": {},
   "outputs": [
    {
     "name": "stdout",
     "output_type": "stream",
     "text": [
      "ingrese el primer sumando :8\n",
      "ingrese el segundo sumando :5\n",
      "el resultado de la suma es :  13\n"
     ]
    }
   ],
   "source": [
    "sum_1= int(input(\"ingrese el primer sumando :\"))\n",
    "sum_2= int(input(\"ingrese el segundo sumando :\"))\n",
    "tot_suma= sum_1 + sum_2\n",
    "print(\"el resultado de la suma es : \" , tot_suma )"
   ]
  },
  {
   "cell_type": "code",
   "execution_count": 2,
   "metadata": {},
   "outputs": [
    {
     "name": "stdout",
     "output_type": "stream",
     "text": [
      "ingrese el minuendo : 185\n",
      "ingrese el sustraendo :40\n",
      "la diferencia es :  145\n"
     ]
    }
   ],
   "source": [
    "minu= int(input(\"ingrese el minuendo : \"))\n",
    "sust= int(input(\"ingrese el sustraendo :\"))\n",
    "tot_resta= minu - sust \n",
    "print(\"la diferencia es : \", tot_resta )"
   ]
  },
  {
   "cell_type": "code",
   "execution_count": 3,
   "metadata": {},
   "outputs": [
    {
     "name": "stdout",
     "output_type": "stream",
     "text": [
      "ingrese el multiplicando :345\n",
      "ingrese el multiplicador :30\n",
      " el producto es : 10350\n"
     ]
    }
   ],
   "source": [
    "multiplicando= int(input(\"ingrese el multiplicando :\"))\n",
    "multiplicador= int(input(\"ingrese el multiplicador :\"))\n",
    "tot_mul= multiplicando * multiplicador\n",
    "print(\" el producto es :\" , tot_mul)"
   ]
  },
  {
   "cell_type": "code",
   "execution_count": 5,
   "metadata": {},
   "outputs": [
    {
     "name": "stdout",
     "output_type": "stream",
     "text": [
      "ingrese el dividendo: 125\n",
      "ingrese el divisor: 5\n",
      "el cociente es:  25.0\n"
     ]
    }
   ],
   "source": [
    "dividendo= int(input(\"ingrese el dividendo: \"))\n",
    "divisor= int(input(\"ingrese el divisor: \"))\n",
    "tot_div= dividendo / divisor\n",
    "print(\"el cociente es: \" , tot_div)"
   ]
  },
  {
   "cell_type": "code",
   "execution_count": 6,
   "metadata": {},
   "outputs": [
    {
     "name": "stdout",
     "output_type": "stream",
     "text": [
      "ingrese la base :5\n",
      "ingrese exponente :4\n",
      "la potencia es : 625\n"
     ]
    }
   ],
   "source": [
    "base= int(input(\"ingrese la base :\"))\n",
    "expo= int(input(\"ingrese exponente :\"))\n",
    "tot_pot= base**expo\n",
    "print(\"la potencia es :\" , tot_pot)"
   ]
  },
  {
   "cell_type": "code",
   "execution_count": null,
   "metadata": {},
   "outputs": [],
   "source": []
  }
 ],
 "metadata": {
  "kernelspec": {
   "display_name": "Python 3",
   "language": "python",
   "name": "python3"
  },
  "language_info": {
   "codemirror_mode": {
    "name": "ipython",
    "version": 3
   },
   "file_extension": ".py",
   "mimetype": "text/x-python",
   "name": "python",
   "nbconvert_exporter": "python",
   "pygments_lexer": "ipython3",
   "version": "3.8.5"
  }
 },
 "nbformat": 4,
 "nbformat_minor": 4
}
