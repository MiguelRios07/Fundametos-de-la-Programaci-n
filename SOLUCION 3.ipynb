{
 "cells": [
  {
   "cell_type": "code",
   "execution_count": 8,
   "metadata": {},
   "outputs": [
    {
     "name": "stdout",
     "output_type": "stream",
     "text": [
      "ingrese la altura: 1.70\n",
      "ingrese el peso : 65\n",
      "su indice de masa corporal es :  22.49134948096886\n"
     ]
    }
   ],
   "source": [
    "val_altura= float(input(\"ingrese la altura: \"))\n",
    "val_peso= float(input(\"ingrese el peso : \"))\n",
    "imc= val_peso/val_altura**2\n",
    "print(\"su indice de masa corporal es : \" , imc)\n"
   ]
  },
  {
   "cell_type": "code",
   "execution_count": null,
   "metadata": {},
   "outputs": [],
   "source": []
  }
 ],
 "metadata": {
  "kernelspec": {
   "display_name": "Python 3",
   "language": "python",
   "name": "python3"
  },
  "language_info": {
   "codemirror_mode": {
    "name": "ipython",
    "version": 3
   },
   "file_extension": ".py",
   "mimetype": "text/x-python",
   "name": "python",
   "nbconvert_exporter": "python",
   "pygments_lexer": "ipython3",
   "version": "3.8.5"
  }
 },
 "nbformat": 4,
 "nbformat_minor": 4
}
