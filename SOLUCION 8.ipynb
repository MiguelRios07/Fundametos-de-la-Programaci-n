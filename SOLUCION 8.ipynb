{
 "cells": [
  {
   "cell_type": "code",
   "execution_count": 2,
   "metadata": {},
   "outputs": [
    {
     "name": "stdout",
     "output_type": "stream",
     "text": [
      "ingrese el valor de la masa :30\n",
      "ingrese el valor del coeficiente de rozamiento estatico : 0.6\n",
      "ingrese el valor de la gravedad :9.8\n",
      "la fuerza que se debe aplicar es de :  176.4\n"
     ]
    }
   ],
   "source": [
    "masa=int(input(\"ingrese el valor de la masa :\"))\n",
    "roz_us=float(input(\"ingrese el valor del coeficiente de rozamiento estatico : \"))\n",
    "grav=float(input(\"ingrese el valor de la gravedad :\"))\n",
    "fuer= roz_us*masa*grav\n",
    "print (\"la fuerza que se debe aplicar es de : \" , fuer)"
   ]
  },
  {
   "cell_type": "code",
   "execution_count": null,
   "metadata": {},
   "outputs": [],
   "source": []
  }
 ],
 "metadata": {
  "kernelspec": {
   "display_name": "Python 3",
   "language": "python",
   "name": "python3"
  },
  "language_info": {
   "codemirror_mode": {
    "name": "ipython",
    "version": 3
   },
   "file_extension": ".py",
   "mimetype": "text/x-python",
   "name": "python",
   "nbconvert_exporter": "python",
   "pygments_lexer": "ipython3",
   "version": "3.8.5"
  }
 },
 "nbformat": 4,
 "nbformat_minor": 4
}
